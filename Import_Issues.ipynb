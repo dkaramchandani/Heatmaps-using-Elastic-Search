{
 "cells": [
  {
   "cell_type": "code",
   "execution_count": 1,
   "metadata": {
    "collapsed": true
   },
   "outputs": [],
   "source": [
    "# pip install github3.py command for install github3\n",
    "# execute pip install github3.py command from the the command window/terminal\n",
    "#Author : DSP18SCM84K\n",
    "\n",
    "import github3\n",
    "import json"
   ]
  },
  {
   "cell_type": "code",
   "execution_count": 2,
   "metadata": {
    "collapsed": true
   },
   "outputs": [],
   "source": [
    "# Get an API key for GitHub and set it as GITHUB_TOKEN\n",
    "# Here is the URL to generate your GITHUB_TOKEN\n",
    "# https://help.github.com/articles/creating-an-access-token-for-command-line-use/\n",
    "\n",
    "GITHUB_TOKEN = '03a0975c4877eba8924b0fe03f056cbbd09fe3e5'\n",
    "ORG = 'SPM587SP18'                     \n",
    "REPO = 'SCM587SP18'\n",
    "FILENAME_ISSUES = ORG + 'issues.json'"
   ]
  },
  {
   "cell_type": "code",
   "execution_count": null,
   "metadata": {
    "collapsed": true
   },
   "outputs": [],
   "source": [
    "gh = github3.login(token=GITHUB_TOKEN)\n",
    "\n",
    "f = open(FILENAME_ISSUES, 'w')\n",
    "for issue in gh.search_issues('type:issue repo:SPM587SP18/SCM587SP18'):          # Find issues from given Repo\n",
    "            label_name=[]\n",
    "            data={}\n",
    "            \n",
    "            current = issue.as_json()\n",
    "            current_issue =json.loads(current)\n",
    "           \n",
    "            data['issue_number']=current_issue[\"number\"]                          # Get issue number              \n",
    "            data['created_at']= current_issue[\"created_at\"][0:10]                 # Get created date of issue\n",
    "            if current_issue[\"closed_at\"] == None:\n",
    "                data['closed_at']= current_issue[\"closed_at\"]\n",
    "            else:\n",
    "                data['closed_at']= current_issue[\"closed_at\"][0:10]               # Get closed date of issue\n",
    "            for label in current_issue[\"labels\"]:\n",
    "                label_name.append(label[\"name\"])                                  # Get label name of issue\n",
    "            data['labels']= label_name\n",
    "            data['State'] = current_issue[\"state\"]                                # It gives state of issue like closed or open\n",
    "            data['Author'] = current_issue[\"user\"][\"login\"]                       # Get Author of issue\n",
    "            out=json.dumps(data)                                                  # save this all information to a JSON file\n",
    "            f.write(out+ '\\n')\n",
    "f.close()"
   ]
  },
  {
   "cell_type": "code",
   "execution_count": null,
   "metadata": {
    "collapsed": true
   },
   "outputs": [],
   "source": []
  }
 ],
 "metadata": {
  "kernelspec": {
   "display_name": "Python 3",
   "language": "python",
   "name": "python3"
  },
  "language_info": {
   "codemirror_mode": {
    "name": "ipython",
    "version": 3
   },
   "file_extension": ".py",
   "mimetype": "text/x-python",
   "name": "python",
   "nbconvert_exporter": "python",
   "pygments_lexer": "ipython3",
   "version": "3.6.1"
  }
 },
 "nbformat": 4,
 "nbformat_minor": 1
}
